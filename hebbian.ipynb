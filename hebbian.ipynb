{
 "cells": [
  {
   "cell_type": "code",
   "execution_count": 1,
   "metadata": {},
   "outputs": [],
   "source": [
    "from copy import deepcopy\n",
    "\n",
    "import matplotlib.pyplot as plt\n",
    "import torch\n",
    "import torch.nn as nn\n",
    "import torch.nn.functional as F\n",
    "from torch.utils.data import DataLoader, random_split\n",
    "from torchvision import transforms\n",
    "from torchvision.datasets import MNIST"
   ]
  },
  {
   "cell_type": "code",
   "execution_count": 2,
   "metadata": {},
   "outputs": [],
   "source": [
    "def encoder_net(layer_sizes):\n",
    "    layers = []\n",
    "    for i, _ in enumerate(layer_sizes[:-1]):\n",
    "        layers.append(nn.Linear(layer_sizes[i], layer_sizes[i+1]))\n",
    "        layers.append(nn.Sigmoid())\n",
    "    net = nn.Sequential(\n",
    "        nn.Flatten(),\n",
    "        *layers,\n",
    "    )\n",
    "    for parameter in net.parameters():\n",
    "        parameter.requires_grad_(False)\n",
    "    return net\n",
    "\n",
    "def classifier_net(hidden_size):\n",
    "    return nn.Sequential(\n",
    "        nn.Linear(hidden_size, 10),\n",
    "        nn.Softmax(-1),\n",
    "    )\n",
    "\n",
    "\n",
    "class HebbianNet(nn.Module):\n",
    "    def __init__(self, layer_sizes):\n",
    "        if not layer_sizes:\n",
    "            raise ValueError(f'layer_sizes {layer_sizes} in HebbianNet must not be empty')\n",
    "        super(HebbianNet, self).__init__()\n",
    "        self.layer_sizes = layer_sizes\n",
    "        self.encoder = encoder_net(layer_sizes)\n",
    "        self.reset_classifier()\n",
    "        \n",
    "    def forward(self, x):\n",
    "        x = self.encoder(x)\n",
    "        x = self.classifier(x)\n",
    "        return x\n",
    "    \n",
    "    def reset_classifier(self):\n",
    "        self.classifier = classifier_net(self.layer_sizes[-1])\n",
    "    \n",
    "    def train_classifier(self, train_loader, valid_loader,\n",
    "                         nb_epochs=200, patience=5, tol=1e-3, lr=1e-3, device=None, verbose=False):\n",
    "        self.reset_classifier()\n",
    "        if not device:\n",
    "            device = 'cuda' if torch.cuda.is_available() else 'cpu'\n",
    "        self = self.to(device)\n",
    "        criterion = nn.CrossEntropyLoss()\n",
    "        optim = torch.optim.Adam(self.parameters(), lr=lr)\n",
    "        min_valid_loss, final_valid_acc, epochs_no_improve = float('inf'), 0, 0\n",
    "        best_model = deepcopy(self.state_dict())\n",
    "        for epoch in range(nb_epochs):\n",
    "            # Train loop\n",
    "            train_loss = 0.\n",
    "            train_acc = 0\n",
    "            for batch in train_loader:\n",
    "                images = batch[0].to(device)\n",
    "                labels = batch[1].to(device)\n",
    "                preds = self(images)\n",
    "                loss = criterion(preds, labels)\n",
    "                optim.zero_grad()\n",
    "                loss.backward()\n",
    "                optim.step()\n",
    "                train_loss += loss.item()\n",
    "                train_acc += torch.sum(torch.argmax(preds, -1) == labels).item()\n",
    "            train_loss /= len(train_loader.dataset) \n",
    "            train_acc /= len(train_loader.dataset) \n",
    "            # Valid loop\n",
    "            valid_loss = 0.\n",
    "            valid_acc = 0\n",
    "            for batch in valid_loader:\n",
    "                images = batch[0].to(device)\n",
    "                labels = batch[1].to(device)\n",
    "                with torch.no_grad():\n",
    "                    preds = self(images)\n",
    "                loss = criterion(preds, labels)\n",
    "                valid_loss += loss.item()\n",
    "                valid_acc += torch.sum(torch.argmax(preds, -1) == labels).item()\n",
    "            valid_loss /= len(valid_loader.dataset)\n",
    "            valid_acc /= len(valid_loader.dataset)\n",
    "            if verbose:\n",
    "                print(f'[Epoch {epoch+1:2d}]  train_loss: {train_loss:.4f}'\\\n",
    "                      f'  train_acc: {train_acc:.3f}  valid_loss: {valid_loss:.4f}'\\\n",
    "                      f'  valid_acc: {valid_acc:.3f}')\n",
    "            if valid_loss*(1+tol) < min_valid_loss:\n",
    "                # Saving the model\n",
    "                best_model = deepcopy(self.state_dict())\n",
    "                min_valid_loss = valid_loss\n",
    "                final_valid_acc = valid_acc\n",
    "                epochs_no_improve = 0\n",
    "            else:\n",
    "                epochs_no_improve += 1\n",
    "            # Check early stopping condition\n",
    "            if epochs_no_improve == patience:\n",
    "                break\n",
    "        self.load_state_dict(best_model)\n",
    "        return final_valid_acc"
   ]
  },
  {
   "cell_type": "code",
   "execution_count": 3,
   "metadata": {},
   "outputs": [],
   "source": [
    "hebbian_net = HebbianNet([28*28, 500])"
   ]
  },
  {
   "cell_type": "code",
   "execution_count": 4,
   "metadata": {},
   "outputs": [
    {
     "name": "stdout",
     "output_type": "stream",
     "text": [
      "HebbianNet parameters: 397510\n",
      "Encoder parameters:    392500\n",
      "Classifier parameters: 5010\n"
     ]
    }
   ],
   "source": [
    "print('HebbianNet parameters: {}'.format(\n",
    "    sum([torch.numel(p) for p in hebbian_net.parameters()])))\n",
    "print('Encoder parameters:    {}'.format(\n",
    "    sum([torch.numel(p) for p in hebbian_net.encoder.parameters()])))\n",
    "print('Classifier parameters: {}'.format(\n",
    "    sum([torch.numel(p) for p in hebbian_net.classifier.parameters()])))"
   ]
  },
  {
   "cell_type": "code",
   "execution_count": 5,
   "metadata": {},
   "outputs": [],
   "source": [
    "batch_size = 32"
   ]
  },
  {
   "cell_type": "code",
   "execution_count": 6,
   "metadata": {},
   "outputs": [],
   "source": [
    "train_set = MNIST(root=\"./data\", train=True, download=True, transform=transforms.ToTensor())\n",
    "train_set, valid_set = random_split(train_set, [50000, 10000])\n",
    "test_set = MNIST(root=\"./data\", train=False, download=True, transform=transforms.ToTensor())\n",
    "\n",
    "train_loader = DataLoader(train_set, batch_size=batch_size, shuffle=True)\n",
    "valid_loader = DataLoader(valid_set, batch_size=batch_size, shuffle=True)\n",
    "test_loader = DataLoader(test_set, batch_size=batch_size, shuffle=True)"
   ]
  },
  {
   "cell_type": "code",
   "execution_count": 7,
   "metadata": {},
   "outputs": [
    {
     "name": "stdout",
     "output_type": "stream",
     "text": [
      "[Epoch  1]  train_loss: 0.0701  train_acc: 0.274  valid_loss: 0.0682  valid_acc: 0.403\n",
      "[Epoch  2]  train_loss: 0.0664  train_acc: 0.461  valid_loss: 0.0653  valid_acc: 0.460\n",
      "[Epoch  3]  train_loss: 0.0645  train_acc: 0.476  valid_loss: 0.0639  valid_acc: 0.481\n",
      "[Epoch  4]  train_loss: 0.0635  train_acc: 0.481  valid_loss: 0.0632  valid_acc: 0.488\n",
      "[Epoch  5]  train_loss: 0.0629  train_acc: 0.484  valid_loss: 0.0628  valid_acc: 0.487\n",
      "[Epoch  6]  train_loss: 0.0625  train_acc: 0.492  valid_loss: 0.0622  valid_acc: 0.517\n",
      "[Epoch  7]  train_loss: 0.0617  train_acc: 0.544  valid_loss: 0.0614  valid_acc: 0.586\n",
      "[Epoch  8]  train_loss: 0.0607  train_acc: 0.595  valid_loss: 0.0602  valid_acc: 0.607\n",
      "[Epoch  9]  train_loss: 0.0598  train_acc: 0.620  valid_loss: 0.0596  valid_acc: 0.632\n",
      "[Epoch 10]  train_loss: 0.0593  train_acc: 0.628  valid_loss: 0.0591  valid_acc: 0.635\n",
      "[Epoch 11]  train_loss: 0.0589  train_acc: 0.636  valid_loss: 0.0586  valid_acc: 0.700\n",
      "[Epoch 12]  train_loss: 0.0580  train_acc: 0.695  valid_loss: 0.0577  valid_acc: 0.709\n",
      "[Epoch 13]  train_loss: 0.0573  train_acc: 0.713  valid_loss: 0.0571  valid_acc: 0.711\n",
      "[Epoch 14]  train_loss: 0.0568  train_acc: 0.718  valid_loss: 0.0567  valid_acc: 0.715\n",
      "[Epoch 15]  train_loss: 0.0564  train_acc: 0.721  valid_loss: 0.0563  valid_acc: 0.725\n",
      "[Epoch 16]  train_loss: 0.0562  train_acc: 0.724  valid_loss: 0.0561  valid_acc: 0.720\n",
      "[Epoch 17]  train_loss: 0.0559  train_acc: 0.726  valid_loss: 0.0559  valid_acc: 0.727\n",
      "[Epoch 18]  train_loss: 0.0557  train_acc: 0.727  valid_loss: 0.0557  valid_acc: 0.728\n",
      "[Epoch 19]  train_loss: 0.0556  train_acc: 0.728  valid_loss: 0.0556  valid_acc: 0.730\n",
      "[Epoch 20]  train_loss: 0.0555  train_acc: 0.731  valid_loss: 0.0556  valid_acc: 0.728\n",
      "[Epoch 21]  train_loss: 0.0554  train_acc: 0.732  valid_loss: 0.0554  valid_acc: 0.733\n",
      "[Epoch 22]  train_loss: 0.0552  train_acc: 0.733  valid_loss: 0.0553  valid_acc: 0.734\n",
      "[Epoch 23]  train_loss: 0.0551  train_acc: 0.734  valid_loss: 0.0551  valid_acc: 0.735\n",
      "[Epoch 24]  train_loss: 0.0551  train_acc: 0.734  valid_loss: 0.0551  valid_acc: 0.736\n",
      "[Epoch 25]  train_loss: 0.0550  train_acc: 0.736  valid_loss: 0.0552  valid_acc: 0.729\n",
      "[Epoch 26]  train_loss: 0.0549  train_acc: 0.737  valid_loss: 0.0550  valid_acc: 0.735\n",
      "[Epoch 27]  train_loss: 0.0549  train_acc: 0.738  valid_loss: 0.0549  valid_acc: 0.737\n",
      "[Epoch 28]  train_loss: 0.0548  train_acc: 0.737  valid_loss: 0.0549  valid_acc: 0.738\n",
      "[Epoch 29]  train_loss: 0.0547  train_acc: 0.739  valid_loss: 0.0547  valid_acc: 0.740\n",
      "[Epoch 30]  train_loss: 0.0547  train_acc: 0.740  valid_loss: 0.0547  valid_acc: 0.741\n",
      "[Epoch 31]  train_loss: 0.0546  train_acc: 0.740  valid_loss: 0.0547  valid_acc: 0.741\n",
      "[Epoch 32]  train_loss: 0.0546  train_acc: 0.740  valid_loss: 0.0546  valid_acc: 0.742\n",
      "[Epoch 33]  train_loss: 0.0546  train_acc: 0.741  valid_loss: 0.0547  valid_acc: 0.737\n",
      "[Epoch 34]  train_loss: 0.0545  train_acc: 0.741  valid_loss: 0.0546  valid_acc: 0.741\n",
      "[Epoch 35]  train_loss: 0.0545  train_acc: 0.743  valid_loss: 0.0546  valid_acc: 0.741\n",
      "[Epoch 36]  train_loss: 0.0545  train_acc: 0.743  valid_loss: 0.0545  valid_acc: 0.744\n",
      "[Epoch 37]  train_loss: 0.0544  train_acc: 0.743  valid_loss: 0.0544  valid_acc: 0.745\n",
      "[Epoch 38]  train_loss: 0.0544  train_acc: 0.743  valid_loss: 0.0544  valid_acc: 0.746\n",
      "[Epoch 39]  train_loss: 0.0544  train_acc: 0.744  valid_loss: 0.0545  valid_acc: 0.743\n",
      "[Epoch 40]  train_loss: 0.0543  train_acc: 0.744  valid_loss: 0.0543  valid_acc: 0.745\n",
      "[Epoch 41]  train_loss: 0.0543  train_acc: 0.744  valid_loss: 0.0544  valid_acc: 0.746\n",
      "[Epoch 42]  train_loss: 0.0543  train_acc: 0.744  valid_loss: 0.0543  valid_acc: 0.745\n",
      "[Epoch 43]  train_loss: 0.0543  train_acc: 0.745  valid_loss: 0.0543  valid_acc: 0.745\n",
      "[Epoch 44]  train_loss: 0.0542  train_acc: 0.746  valid_loss: 0.0544  valid_acc: 0.744\n",
      "[Epoch 45]  train_loss: 0.0542  train_acc: 0.747  valid_loss: 0.0543  valid_acc: 0.748\n",
      "[Epoch 46]  train_loss: 0.0542  train_acc: 0.746  valid_loss: 0.0543  valid_acc: 0.745\n",
      "[Epoch 47]  train_loss: 0.0542  train_acc: 0.746  valid_loss: 0.0543  valid_acc: 0.745\n",
      "[Epoch 48]  train_loss: 0.0542  train_acc: 0.746  valid_loss: 0.0542  valid_acc: 0.745\n"
     ]
    },
    {
     "data": {
      "text/plain": [
       "0.745"
      ]
     },
     "execution_count": 7,
     "metadata": {},
     "output_type": "execute_result"
    }
   ],
   "source": [
    "hebbian_net.train_classifier(\n",
    "    train_loader, valid_loader, lr=1e-3, verbose=True)"
   ]
  },
  {
   "cell_type": "code",
   "execution_count": 8,
   "metadata": {},
   "outputs": [
    {
     "data": {
      "image/png": "[encoded data removed]",
      "text/plain": [
       "<Figure size 864x288 with 16 Axes>"
      ]
     },
     "metadata": {
      "needs_background": "light"
     },
     "output_type": "display_data"
    }
   ],
   "source": [
    "images = train_loader.dataset.dataset.data[:8]\n",
    "embedds = hebbian_net.cpu().encoder(images.float())\n",
    "preds = hebbian_net.cpu().classifier(embedds)\n",
    "plt.figure(figsize=(12,4))\n",
    "for i in range (8):\n",
    "    plt.subplot(2, 8, i+1)\n",
    "    plt.imshow(images[i], cmap='gray')\n",
    "    plt.axis('off')\n",
    "    plt.subplot(2, 8, 8+i+1)\n",
    "    plt.imshow(embedds[i].reshape(25, 20), cmap='gray')\n",
    "    plt.axis('off')\n",
    "    plt.title(torch.argmax(preds, -1)[i].item(), fontsize=20)\n"
   ]
  },
  {
   "cell_type": "code",
   "execution_count": 9,
   "metadata": {},
   "outputs": [
    {
     "data": {
      "image/png": "[encoded data removed]",
      "text/plain": [
       "<Figure size 432x288 with 1 Axes>"
      ]
     },
     "metadata": {
      "needs_background": "light"
     },
     "output_type": "display_data"
    }
   ],
   "source": [
    "plt.hist(embedds[0].numpy(), bins=100);"
   ]
  },
  {
   "cell_type": "markdown",
   "metadata": {},
   "source": [
    "# TODO: Hebbian training"
   ]
  }
 ],
 "metadata": {
  "kernelspec": {
   "display_name": "Python 3",
   "language": "python",
   "name": "python3"
  },
  "language_info": {
   "codemirror_mode": {
    "name": "ipython",
    "version": 3
   },
   "file_extension": ".py",
   "mimetype": "text/x-python",
   "name": "python",
   "nbconvert_exporter": "python",
   "pygments_lexer": "ipython3",
   "version": "3.8.5"
  },
  "toc-autonumbering": false,
  "toc-showcode": true,
  "toc-showmarkdowntxt": false,
  "toc-showtags": false
 },
 "nbformat": 4,
 "nbformat_minor": 4
}
